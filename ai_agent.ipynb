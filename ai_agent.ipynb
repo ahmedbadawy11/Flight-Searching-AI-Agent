{
 "cells": [
  {
   "cell_type": "code",
   "execution_count": 91,
   "metadata": {},
   "outputs": [],
   "source": [
    "from crewai import Agent, Task, Crew, Process, LLM\n",
    "from crewai.tools import tool\n",
    "import agentops\n",
    "\n",
    "from pydantic import Field,BaseModel\n",
    "from typing import List\n",
    "\n",
    "from tavily import TavilyClient\n",
    "\n",
    "import os"
   ]
  },
  {
   "cell_type": "code",
   "execution_count": 66,
   "metadata": {},
   "outputs": [
    {
     "name": "stderr",
     "output_type": "stream",
     "text": [
      "🖇 AgentOps: AgentOps has already been initialized. If you are trying to start a session, call agentops.start_session() instead.\n"
     ]
    }
   ],
   "source": [
    "from dotenv import load_dotenv\n",
    "\n",
    "load_dotenv()\n",
    "\n",
    "# Get the key\n",
    "\n",
    "os.environ[\"AGENTOPS_API_KEY\"] = os.getenv(\"AGENTOPS_API_KEY\")\n",
    "os.environ[\"GROQ_API_KEY\"] = os.getenv(\"GROQ_API_KEY\")\n",
    "os.environ[\"tvly_YOUR_API_KEY\"] =os.getenv(\"tvly_YOUR_API_KEY\")\n",
    "\n",
    "agentops.init(\n",
    "    api_key=os.getenv(\"AGENTOPS_API_KEY\"),\n",
    "    skip_auto_end_session=True\n",
    ")"
   ]
  },
  {
   "cell_type": "code",
   "execution_count": 70,
   "metadata": {},
   "outputs": [
    {
     "name": "stdout",
     "output_type": "stream",
     "text": [
      "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\n"
     ]
    }
   ],
   "source": [
    "print(os.getenv(\"tvly_YOUR_API_KEY\")) "
   ]
  },
  {
   "cell_type": "code",
   "execution_count": 71,
   "metadata": {},
   "outputs": [],
   "source": [
    "output_dir = \"./ai-agent-output\"\n",
    "os.makedirs(output_dir, exist_ok=True)\n",
    "\n",
    "base_llm=LLM(model=\"groq/llama-3.3-70b-versatile\",\n",
    "    temperature=0)\n",
    "\n",
    "tavily_client = TavilyClient(api_key=os.getenv(\"tvly_YOUR_API_KEY\"))"
   ]
  },
  {
   "cell_type": "code",
   "execution_count": 53,
   "metadata": {},
   "outputs": [],
   "source": [
    "no_keywords=10"
   ]
  },
  {
   "cell_type": "markdown",
   "metadata": {},
   "source": [
    "# Agent A"
   ]
  },
  {
   "cell_type": "code",
   "execution_count": 87,
   "metadata": {},
   "outputs": [],
   "source": [
    "class SuggestedSearchQueries(BaseModel):\n",
    "    queries: List[str] = Field(..., title=\"Suggested search queries to be passed to the search engine\",\n",
    "                               min_items=1, max_items=no_keywords)\n",
    "\n",
    "\n",
    "search_queries_recommendation_agent=Agent(\n",
    "    role=\"Search Queries Recommendation Agent\",\n",
    "    goal=\"\\n\".join([\n",
    "        \"To generate optimized and relevant search queries for flight comparisons.\",\n",
    "        \"To ensure queries cover various flight options, including different dates, airlines, and price ranges.\",\n",
    "        \"To enhance the accuracy of search results by considering user preferences, budget constraints, and travel flexibility.\",\n",
    "        \"To provide diverse queries that increase the likelihood of finding the best available flights.\"\n",
    "    ]),\n",
    "    backstory=\"\"\"This agent is designed to enhance the flight search experience by generating optimized search queries. \n",
    "    It considers various factors such as travel dates, and user preferences to provide a diverse set of search queries. \n",
    "    By intelligently crafting these queries based on the given context, the agent ensures that the search engine retrieves the most relevant and competitive flight options.\"\"\",\n",
    "    llm=base_llm,\n",
    "    verbose=True,\n",
    "\n",
    ")\n",
    "\n",
    "\n",
    "search_queries_recommendation_task = Task(\n",
    "    description=\"\\n\".join([\n",
    "        \"FlyFinder aims to retrieve all available flights from {departure} to {destination} on {date} at the best prices, following a value-for-price strategy.\",\n",
    "        \"The company prioritizes purchasing from these websites: [www.Trip.com, www.Mytrip.com, www.aircairo.com,www.skyscanner.com].\",\n",
    "        \"The objective is to gather all available flights across the internet for comparison in a later stage.\",\n",
    "        \"Generate up to {no_keywords} optimized search queries.\",\n",
    "        \"Ensure that search queries are in {language}.\",\n",
    "        \"Queries must directly lead to flight booking or product pages, avoiding blogs or generic listing pages.\"\n",
    "    ]),\n",
    "    expected_output=\"A JSON object containing a list of suggested search queries.\",\n",
    "    output_json=SuggestedSearchQueries,\n",
    "    output_file=os.path.join(output_dir, \"step_1_suggested_search_queries.json\"),\n",
    "    agent=search_queries_recommendation_agent\n",
    "\n",
    ")\n"
   ]
  },
  {
   "cell_type": "markdown",
   "metadata": {},
   "source": [
    "# Agent B"
   ]
  },
  {
   "cell_type": "code",
   "execution_count": null,
   "metadata": {},
   "outputs": [],
   "source": [
    "@tool\n",
    "def search_engine_tool(query:str):\n",
    "    \"\"\"Useful for search-based queries. Use this to find current information about any query related pages using a search engine\"\"\"\n",
    "    return tavily_client.search(query)\n",
    "\n",
    "search_engine_agent = Agent(\n",
    "    role= \"Search Engine Agent\",\n",
    "    goal=\"To search for flights based on the suggested search query\",\n",
    "    backstory=\"The agent is designed to help in looking for flights by searching for flights based on the suggested search queries.\",\n",
    "    llm=base_llm,\n",
    "    verbose=True,\n",
    "    tools=[search_engine_tool]\n",
    "\n",
    ")\n",
    "\n",
    "\n",
    "\n",
    "search_engine_task = Task(\n",
    "\n",
    "\n",
    "    \n",
    ")"
   ]
  },
  {
   "cell_type": "markdown",
   "metadata": {},
   "source": [
    "# Run the AI Crew"
   ]
  },
  {
   "cell_type": "code",
   "execution_count": 88,
   "metadata": {},
   "outputs": [
    {
     "name": "stderr",
     "output_type": "stream",
     "text": [
      "WARNING:opentelemetry.trace:Overriding of current TracerProvider is not allowed\n"
     ]
    }
   ],
   "source": [
    "FlyFinder_crew = Crew(\n",
    "    agents=[\n",
    "        search_queries_recommendation_agent,\n",
    "        \n",
    "    ],\n",
    "    tasks=[\n",
    "        search_queries_recommendation_task,\n",
    "       \n",
    "    ],\n",
    "    process=Process.sequential,\n",
    "    # knowledge_sources=[company_context]\n",
    ")"
   ]
  },
  {
   "cell_type": "code",
   "execution_count": 90,
   "metadata": {},
   "outputs": [
    {
     "name": "stdout",
     "output_type": "stream",
     "text": [
      "\u001b[1m\u001b[95m# Agent:\u001b[00m \u001b[1m\u001b[92mSearch Queries Recommendation Agent\u001b[00m\n",
      "\u001b[95m## Task:\u001b[00m \u001b[92mFlyFinder aims to retrieve all available flights from القاهرة (CAI) to المدينة المنورة (MED) on 20/2/2025 at the best prices, following a value-for-price strategy.\n",
      "The company prioritizes purchasing from these websites: [www.Trip.com, www.Mytrip.com, www.aircairo.com,www.skyscanner.com].\n",
      "The objective is to gather all available flights across the internet for comparison in a later stage.\n",
      "Generate up to 10 optimized search queries.\n",
      "Ensure that search queries are in Arabic.\n",
      "Queries must directly lead to flight booking or product pages, avoiding blogs or generic listing pages.\u001b[00m\n",
      "\n",
      "\n",
      "\u001b[1m\u001b[95m# Agent:\u001b[00m \u001b[1m\u001b[92mSearch Queries Recommendation Agent\u001b[00m\n",
      "\u001b[95m## Final Answer:\u001b[00m \u001b[92m\n",
      "{\n",
      "  \"queries\": [\n",
      "    \"تذاكر طيران من القاهرة إلى المدينة المنورة في 20/2/2025 على www.Trip.com\",\n",
      "    \"رحلات جوية من القاهرة إلى المدينة المنورة في 20/2/2025 على www.Mytrip.com\",\n",
      "    \"حجز طيران من القاهرة إلى المدينة المنورة في 20/2/2025 على www.aircairo.com\",\n",
      "    \"اسعار تذاكر طيران من القاهرة إلى المدينة المنورة في 20/2/2025 على www.skyscanner.com\",\n",
      "    \"تذاكر طيران من القاهرة إلى المدينة المنورة في 20/2/2025 على www.Trip.com مع افضل الاسعار\",\n",
      "    \"رحلات جوية من القاهرة إلى المدينة المنورة في 20/2/2025 على www.Mytrip.com مع خصومات\",\n",
      "    \"حجز طيران من القاهرة إلى المدينة المنورة في 20/2/2025 على www.aircairo.com بسعر منخفض\",\n",
      "    \"اسعار تذاكر طيران من القاهرة إلى المدينة المنورة في 20/2/2025 على www.skyscanner.com مع مقارنة الاسعار\",\n",
      "    \"تذاكر طيران من القاهرة إلى المدينة المنورة في 20/2/2025 على جميع المواقع\",\n",
      "    \"رحلات جوية من القاهرة إلى المدينة المنورة في 20/2/2025 مع افضل العروض على www.Trip.com و www.Mytrip.com و www.aircairo.com و www.skyscanner.com\"\n",
      "  ]\n",
      "}\u001b[00m\n",
      "\n",
      "\n"
     ]
    }
   ],
   "source": [
    "crew_results=FlyFinder_crew.kickoff(\n",
    "    inputs={\n",
    "       \"departure\":\"القاهرة (CAI)\",\n",
    "       \"destination\":\"المدينة المنورة (MED)\",\n",
    "        \"date\":\"20/2/2025\",\n",
    "        \"no_keywords\":no_keywords,\n",
    "        \"language\":\"Arabic\",\n",
    "       \n",
    "\n",
    "    }\n",
    ")"
   ]
  },
  {
   "cell_type": "code",
   "execution_count": null,
   "metadata": {},
   "outputs": [],
   "source": []
  }
 ],
 "metadata": {
  "kernelspec": {
   "display_name": "ai-agent",
   "language": "python",
   "name": "python3"
  },
  "language_info": {
   "codemirror_mode": {
    "name": "ipython",
    "version": 3
   },
   "file_extension": ".py",
   "mimetype": "text/x-python",
   "name": "python",
   "nbconvert_exporter": "python",
   "pygments_lexer": "ipython3",
   "version": "3.11.0"
  }
 },
 "nbformat": 4,
 "nbformat_minor": 2
}
